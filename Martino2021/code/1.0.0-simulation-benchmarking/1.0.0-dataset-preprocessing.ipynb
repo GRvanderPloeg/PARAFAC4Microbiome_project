{
 "cells": [
  {
   "cell_type": "code",
   "execution_count": 2,
   "metadata": {},
   "outputs": [],
   "source": [
    "import biom\n",
    "import pandas as pd\n",
    "import numpy as np\n",
    "import qiime2 as q2\n",
    "from scipy.stats import norm\n",
    "from biom import load_table, Table\n",
    "pd.options.mode.chained_assignment = None  # default='warn'\n"
   ]
  },
  {
   "cell_type": "code",
   "execution_count": 4,
   "metadata": {},
   "outputs": [
    {
     "name": "stdout",
     "output_type": "stream",
     "text": [
      "(7589, 681)\n",
      "(683, 38)\n"
     ]
    }
   ],
   "source": [
    "def match_data(bt, mf, n_sample = 0, n_feature = 0):\n",
    "\n",
    "    \"\"\"\n",
    "    Import data and filter\n",
    "    by sum or reads/taxa\n",
    "\n",
    "    filter cutoffs\n",
    "    int, int\n",
    "    \"\"\"\n",
    "\n",
    "    #match\n",
    "    keep_subject = list(set(mf.index) & set(bt.ids()))\n",
    "    bt.filter(keep_subject,axis='sample',inplace=True)\n",
    "    # filter table by sum cutoffs\n",
    "    keep_subject = bt.ids('sample')[bt.sum('sample') >= n_sample]\n",
    "    keep_subject = list(set(mf.index) & set(keep_subject))\n",
    "    bt.filter(keep_subject,axis='sample',inplace=True)\n",
    "    # filter taxa\n",
    "    keep_taxa = bt.ids('observation')[bt.sum('observation') > n_feature]\n",
    "    # drop and filter\n",
    "    bt.filter(keep_taxa,axis='observation',inplace=True)\n",
    "    # df\n",
    "    btdf = pd.DataFrame(bt.matrix_data.toarray(),\n",
    "                        bt.ids('observation'),\n",
    "                        bt.ids('sample'))\n",
    "    # ensure matched \n",
    "    mf = mf.reindex(btdf.columns)\n",
    "\n",
    "    return  bt, btdf, mf\n",
    "\n",
    "\n",
    "# import table\n",
    "bt = load_table('../../data/Halfvarson-IBD-Qiita-1629/reference-hit.biom')\n",
    "# import metadata\n",
    "mf = pd.read_csv('../../data/Halfvarson-IBD-Qiita-1629/1629_20180101-113841.txt',sep='\\t',index_col=0)\n",
    "print(bt.shape)\n",
    "print(mf.shape)"
   ]
  },
  {
   "cell_type": "code",
   "execution_count": 5,
   "metadata": {},
   "outputs": [
    {
     "data": {
      "text/plain": [
       "(156, 39)"
      ]
     },
     "execution_count": 5,
     "metadata": {},
     "output_type": "execute_result"
    }
   ],
   "source": [
    "# keep only Crohns and Control\n",
    "mf = mf[mf.ibd_subtype.isin(['HC', 'CCD'])]\n",
    "# ensure timepoints are numeric\n",
    "mf['timepoint'] = pd.to_numeric(mf['timepoint'], errors='coerce')\n",
    "# rename for readability\n",
    "mf['IBD'] = mf['ibd_subtype'].replace({'CCD': 'Crohns',\n",
    "                                       'HC': 'Control'})\n",
    "mf.shape"
   ]
  },
  {
   "cell_type": "code",
   "execution_count": 6,
   "metadata": {},
   "outputs": [
    {
     "name": "stdout",
     "output_type": "stream",
     "text": [
      "before\n",
      "1    27\n",
      "3    24\n",
      "2    24\n",
      "4    22\n",
      "5    20\n",
      "6    15\n",
      "7    13\n",
      "8     9\n",
      "9     2\n",
      "Name: timepoint, dtype: int64\n",
      "after\n",
      "1    27\n",
      "3    24\n",
      "2    24\n",
      "4    22\n",
      "5    20\n",
      "6    15\n",
      "7    13\n",
      "8     9\n",
      "Name: timepoint, dtype: int64\n"
     ]
    }
   ],
   "source": [
    "# very few samples hvae timepoints 9,10\n",
    "print('before')\n",
    "print(mf.timepoint.value_counts())\n",
    "# so we remove them\n",
    "mf = mf[mf.timepoint < 9]\n",
    "print('after')\n",
    "print(mf.timepoint.value_counts())\n"
   ]
  },
  {
   "cell_type": "code",
   "execution_count": 7,
   "metadata": {},
   "outputs": [
    {
     "name": "stdout",
     "output_type": "stream",
     "text": [
      "(154, 39)\n",
      "23\n",
      "(148, 39)\n"
     ]
    }
   ],
   "source": [
    "# next filter subjects that at least three timepoints\n",
    "print(mf.shape)\n",
    "keep_sub = [k for k,df in mf.groupby('host_subject_id') if len(set(df.timepoint)) > 2]\n",
    "mf = mf[mf.host_subject_id.isin(keep_sub)]\n",
    "print(len(keep_sub))\n",
    "print(mf.shape)"
   ]
  },
  {
   "cell_type": "code",
   "execution_count": 8,
   "metadata": {},
   "outputs": [
    {
     "name": "stdout",
     "output_type": "stream",
     "text": [
      "(3210, 134)\n",
      "(3210, 134)\n",
      "(134, 39)\n"
     ]
    }
   ],
   "source": [
    "# match the cleaned data\n",
    "bt, btdf, mf = match_data(bt, mf, n_sample = 500)\n",
    "print(bt.shape)\n",
    "print(btdf.shape)\n",
    "print(mf.shape)\n"
   ]
  },
  {
   "cell_type": "code",
   "execution_count": 9,
   "metadata": {},
   "outputs": [],
   "source": [
    "# write mapping file to use for downstream\n",
    "mf.index.name = '#SampleID'\n",
    "mf.to_csv('../../data/Halfvarson-IBD-Qiita-1629/metadata-matched.tsv',sep='\\t')\n",
    "btdf.to_csv('../../data/Halfvarson-IBD-Qiita-1629/table-matched.tsv',sep='\\t')\n",
    "with biom.util.biom_open('../../data/Halfvarson-IBD-Qiita-1629/table-matched.biom', 'w') as f:\n",
    "    bt.to_hdf5(f, \"ibdlongmatch\")\n"
   ]
  },
  {
   "cell_type": "code",
   "execution_count": 10,
   "metadata": {},
   "outputs": [
    {
     "data": {
      "text/plain": [
       "Crohns     76\n",
       "Control    58\n",
       "Name: IBD, dtype: int64"
      ]
     },
     "execution_count": 10,
     "metadata": {},
     "output_type": "execute_result"
    }
   ],
   "source": [
    "mf.IBD.value_counts()"
   ]
  },
  {
   "cell_type": "code",
   "execution_count": 11,
   "metadata": {},
   "outputs": [
    {
     "data": {
      "text/plain": [
       "23"
      ]
     },
     "execution_count": 11,
     "metadata": {},
     "output_type": "execute_result"
    }
   ],
   "source": [
    "len(set(mf.host_subject_id))"
   ]
  },
  {
   "cell_type": "code",
   "execution_count": 12,
   "metadata": {},
   "outputs": [
    {
     "data": {
      "text/plain": [
       "Counter({'Crohns': 14, 'Control': 9})"
      ]
     },
     "execution_count": 12,
     "metadata": {},
     "output_type": "execute_result"
    }
   ],
   "source": [
    "from collections import Counter\n",
    "Counter([list(set(df.IBD))[0] for k,df in mf.groupby('host_subject_id')])"
   ]
  }
 ],
 "metadata": {
  "kernelspec": {
   "display_name": "Python 3",
   "language": "python",
   "name": "python3"
  },
  "language_info": {
   "codemirror_mode": {
    "name": "ipython",
    "version": 3
   },
   "file_extension": ".py",
   "mimetype": "text/x-python",
   "name": "python",
   "nbconvert_exporter": "python",
   "pygments_lexer": "ipython3",
   "version": "3.6.7"
  }
 },
 "nbformat": 4,
 "nbformat_minor": 2
}
