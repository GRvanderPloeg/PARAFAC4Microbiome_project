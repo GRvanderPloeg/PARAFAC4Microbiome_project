{
 "cells": [
  {
   "cell_type": "markdown",
   "metadata": {},
   "source": [
    "# QIIME2 analysis of qiita ID 11884 \n",
    "### Natural history of the infant gut microbiome and impact of antibiotic treatment on bacterial strain diversity and stability (DIABIUMMUNE antibiotics)\n",
    "\n",
    "#### Abstract\n",
    "\n",
    "The goal of the DIABIMMUNE antibiotics cohort is to study the effect of repeated antibitioc treatments on the developing infant gut microbiome. Despite widespread use of antibiotics in children, the effect of antibiotic exposure on the developing infant gut microbiome has remained underexplored. Yassour et al. present a longitudinal study capturing how the gut microbiome responds to and recovers from antibiotic perturbations. Antibiotic-treated children had less stable and less diverse communities. Antibiotic resistance genes within the guts of these children peaked after antibiotic treatment but generally returned rapidly to baseline. Delivery mode (vaginal versus Caesarian) also had strong long-term effects on microbial diversity. These data give insight into the consequences of early life factors such as birth mode and antibiotic treatment. Abstract The gut microbial community is dynamic during the first three years of life, before stabilizing to an adult-like state. However, little is known about the impact of environmental factors on the developing human gut microbiome. Here, we report a longitudinal study of the gut microbiome based on DNA sequence analysis of monthly stool samples and clinical information from 39 children, approximately half of whom received multiple courses of antibiotics during the first three years of life. Whereas the gut microbiome of most children born by vaginal delivery was dominated by Bacteroides species, the four children born by Cesarean section and approximately 20% of vaginally born children lacked Bacteroides in the first six to eighteen months of life. Longitudinal sampling, coupled with whole-genome shotgun sequencing, allowed detection of strain-level variation as well as the abundance of antibiotic resistance genes. The microbiota of antibiotic-treated children was less diverse in terms of both bacterial species and strains, with some species often dominated by single strains. In addition, we observed short-term composition changes between consecutive samples from children treated with antibiotics. Antibiotic resistance genes carried on microbial chromosomes showed a peak in abundance after antibiotic treatment followed by a sharp decline, whereas some genes carried on mobile elements persisted longer after antibiotic therapy ended. Our results highlight the value of dense longitudinal studies with high-resolution strain profiles for studying the establishment and response to perturbation of the infant gut microbiome.\n"
   ]
  },
  {
   "cell_type": "markdown",
   "metadata": {},
   "source": [
    "### 1.1 “Parameters” that specify the input data locations"
   ]
  },
  {
   "cell_type": "code",
   "execution_count": 2,
   "metadata": {},
   "outputs": [
    {
     "name": "stdout",
     "output_type": "stream",
     "text": [
      "env: INPUT_BIOM_TABLE_PATH=../../data/DIABIMMUNE-Qiita-11884/DIABIMMUNE_month.biom\n",
      "env: INPUT_REPRESENTATIVE_SEQUENCES_PATH=../../data/DIABIMMUNE-Qiita-11884/72835_reference-hit.seqs.fa\n",
      "env: INPUT_SAMPLE_METADATA_PATH=../../data/DIABIMMUNE-Qiita-11884/11884_20190508-173103-added-month-abx.txt\n",
      "env: INPUT_SAMPLE_METADATA_TIME_PATH=../../data/DIABIMMUNE-Qiita-11884/metadata-added-month-abx-lowtime-rm.txt\n",
      "env: RAREFACTION_DEPTH=4000\n",
      "env: FEATURE_CLASSIFIER_QZA_PATH=../../data/data-assests/gg-13-8-99-515-806-nb-classifier.qza\n",
      "env: OUTPUT_DIRECTORY=../../data/DIABIMMUNE-Qiita-11884/q2-analysis\n"
     ]
    }
   ],
   "source": [
    "# Input data locations\n",
    "%env INPUT_BIOM_TABLE_PATH=../../data/DIABIMMUNE-Qiita-11884/DIABIMMUNE_month.biom\n",
    "%env INPUT_REPRESENTATIVE_SEQUENCES_PATH=../../data/DIABIMMUNE-Qiita-11884/72835_reference-hit.seqs.fa\n",
    "%env INPUT_SAMPLE_METADATA_PATH=../../data/DIABIMMUNE-Qiita-11884/11884_20190508-173103-added-month-abx.txt\n",
    "%env INPUT_SAMPLE_METADATA_TIME_PATH=../../data/DIABIMMUNE-Qiita-11884/metadata-added-month-abx-lowtime-rm.txt\n",
    "# Rarefaction depth used in the \"Diversity Analyses\" section\n",
    "%env RAREFACTION_DEPTH=4000\n",
    "# classifier from (qiime2 downloaded 5/31/2019)\n",
    "%env FEATURE_CLASSIFIER_QZA_PATH=../../data/data-assests/gg-13-8-99-515-806-nb-classifier.qza\n",
    "# Output directory\n",
    "%env OUTPUT_DIRECTORY=../../data/DIABIMMUNE-Qiita-11884/q2-analysis\n"
   ]
  },
  {
   "cell_type": "markdown",
   "metadata": {},
   "source": [
    "### 1.2 Setting up output and environment "
   ]
  },
  {
   "cell_type": "code",
   "execution_count": 2,
   "metadata": {},
   "outputs": [
    {
     "name": "stdout",
     "output_type": "stream",
     "text": [
      "/bin/sh: activate: No such file or directory\r\n"
     ]
    }
   ],
   "source": [
    "!source activate qiime2-2019.7"
   ]
  },
  {
   "cell_type": "markdown",
   "metadata": {},
   "source": [
    "### 1.3 Importing Data"
   ]
  },
  {
   "cell_type": "code",
   "execution_count": 6,
   "metadata": {},
   "outputs": [
    {
     "name": "stdout",
     "output_type": "stream",
     "text": [
      "\u001b[32mImported ../../data/DIABIMMUNE-Qiita-11884/DIABIMMUNE_month.biom as BIOMV210DirFmt to ../../data/DIABIMMUNE-Qiita-11884/q2-analysis/table.qza\u001b[0m\r\n"
     ]
    }
   ],
   "source": [
    "!qiime tools import \\\n",
    "    --type \"FeatureTable[Frequency]\" \\\n",
    "    --input-path $INPUT_BIOM_TABLE_PATH \\\n",
    "    --output-path $OUTPUT_DIRECTORY/table.qza"
   ]
  },
  {
   "cell_type": "code",
   "execution_count": 7,
   "metadata": {},
   "outputs": [
    {
     "name": "stdout",
     "output_type": "stream",
     "text": [
      "\u001b[32mImported ../../data/DIABIMMUNE-Qiita-11884/72835_reference-hit.seqs.fa as DNASequencesDirectoryFormat to ../../data/DIABIMMUNE-Qiita-11884/q2-analysis/rep-seqs.qza\u001b[0m\r\n"
     ]
    }
   ],
   "source": [
    "!qiime tools import \\\n",
    "    --type \"FeatureData[Sequence]\" \\\n",
    "    --input-path $INPUT_REPRESENTATIVE_SEQUENCES_PATH \\\n",
    "    --output-path $OUTPUT_DIRECTORY/rep-seqs.qza"
   ]
  },
  {
   "cell_type": "markdown",
   "metadata": {},
   "source": [
    "### 1.4 Summarize the (filtered) table and representative sequences"
   ]
  },
  {
   "cell_type": "code",
   "execution_count": 8,
   "metadata": {},
   "outputs": [
    {
     "name": "stdout",
     "output_type": "stream",
     "text": [
      "\u001b[32mSaved Visualization to: ../../data/DIABIMMUNE-Qiita-11884/q2-analysis/table.qzv\u001b[0m\r\n"
     ]
    }
   ],
   "source": [
    "!qiime feature-table summarize \\\n",
    "    --i-table $OUTPUT_DIRECTORY/table.qza \\\n",
    "    --o-visualization $OUTPUT_DIRECTORY/table.qzv \\\n",
    "    --m-sample-metadata-file $INPUT_SAMPLE_METADATA_PATH"
   ]
  },
  {
   "cell_type": "code",
   "execution_count": 9,
   "metadata": {},
   "outputs": [
    {
     "name": "stdout",
     "output_type": "stream",
     "text": [
      "\u001b[32mSaved Visualization to: ../../data/DIABIMMUNE-Qiita-11884/q2-analysis/rep-seqs.qzv\u001b[0m\r\n"
     ]
    }
   ],
   "source": [
    "!qiime feature-table tabulate-seqs \\\n",
    "    --i-data $OUTPUT_DIRECTORY/rep-seqs.qza \\\n",
    "    --o-visualization $OUTPUT_DIRECTORY/rep-seqs.qzv"
   ]
  },
  {
   "cell_type": "markdown",
   "metadata": {},
   "source": [
    "### 1.5 Generate phylogenetic trees"
   ]
  },
  {
   "cell_type": "code",
   "execution_count": 2,
   "metadata": {},
   "outputs": [
    {
     "name": "stdout",
     "output_type": "stream",
     "text": [
      "\u001b[32mSaved Phylogeny[Rooted] to: ../../data/DIABIMMUNE-Qiita-11884/q2-analysis/insertion-tree.qza\u001b[0m\n",
      "\u001b[32mSaved Placements to: ../../data/DIABIMMUNE-Qiita-11884/q2-analysis/tree-placements.qza\u001b[0m\n"
     ]
    }
   ],
   "source": [
    "!qiime fragment-insertion sepp \\\n",
    "    --i-representative-sequences $OUTPUT_DIRECTORY/rep-seqs.qza \\\n",
    "    --o-tree $OUTPUT_DIRECTORY/insertion-tree.qza \\\n",
    "    --o-placements $OUTPUT_DIRECTORY/tree-placements.qza"
   ]
  },
  {
   "cell_type": "markdown",
   "metadata": {},
   "source": [
    "### 1.6 Diversity Analyses (all core-metrics & beta-diversity aitchison)"
   ]
  },
  {
   "cell_type": "code",
   "execution_count": 3,
   "metadata": {},
   "outputs": [
    {
     "name": "stdout",
     "output_type": "stream",
     "text": [
      "\u001b[32mSaved FeatureTable[Frequency] to: ../../data/DIABIMMUNE-Qiita-11884/q2-analysis/core-metrics-results/rarefied_table.qza\u001b[0m\n",
      "\u001b[32mSaved SampleData[AlphaDiversity] % Properties('phylogenetic') to: ../../data/DIABIMMUNE-Qiita-11884/q2-analysis/core-metrics-results/faith_pd_vector.qza\u001b[0m\n",
      "\u001b[32mSaved SampleData[AlphaDiversity] to: ../../data/DIABIMMUNE-Qiita-11884/q2-analysis/core-metrics-results/observed_otus_vector.qza\u001b[0m\n",
      "\u001b[32mSaved SampleData[AlphaDiversity] to: ../../data/DIABIMMUNE-Qiita-11884/q2-analysis/core-metrics-results/shannon_vector.qza\u001b[0m\n",
      "\u001b[32mSaved SampleData[AlphaDiversity] to: ../../data/DIABIMMUNE-Qiita-11884/q2-analysis/core-metrics-results/evenness_vector.qza\u001b[0m\n",
      "\u001b[32mSaved DistanceMatrix % Properties('phylogenetic') to: ../../data/DIABIMMUNE-Qiita-11884/q2-analysis/core-metrics-results/unweighted_unifrac_distance_matrix.qza\u001b[0m\n",
      "\u001b[32mSaved DistanceMatrix % Properties('phylogenetic') to: ../../data/DIABIMMUNE-Qiita-11884/q2-analysis/core-metrics-results/weighted_unifrac_distance_matrix.qza\u001b[0m\n",
      "\u001b[32mSaved DistanceMatrix to: ../../data/DIABIMMUNE-Qiita-11884/q2-analysis/core-metrics-results/jaccard_distance_matrix.qza\u001b[0m\n",
      "\u001b[32mSaved DistanceMatrix to: ../../data/DIABIMMUNE-Qiita-11884/q2-analysis/core-metrics-results/bray_curtis_distance_matrix.qza\u001b[0m\n",
      "\u001b[32mSaved PCoAResults to: ../../data/DIABIMMUNE-Qiita-11884/q2-analysis/core-metrics-results/unweighted_unifrac_pcoa_results.qza\u001b[0m\n",
      "\u001b[32mSaved PCoAResults to: ../../data/DIABIMMUNE-Qiita-11884/q2-analysis/core-metrics-results/weighted_unifrac_pcoa_results.qza\u001b[0m\n",
      "\u001b[32mSaved PCoAResults to: ../../data/DIABIMMUNE-Qiita-11884/q2-analysis/core-metrics-results/jaccard_pcoa_results.qza\u001b[0m\n",
      "\u001b[32mSaved PCoAResults to: ../../data/DIABIMMUNE-Qiita-11884/q2-analysis/core-metrics-results/bray_curtis_pcoa_results.qza\u001b[0m\n",
      "\u001b[32mSaved Visualization to: ../../data/DIABIMMUNE-Qiita-11884/q2-analysis/core-metrics-results/unweighted_unifrac_emperor.qzv\u001b[0m\n",
      "\u001b[32mSaved Visualization to: ../../data/DIABIMMUNE-Qiita-11884/q2-analysis/core-metrics-results/weighted_unifrac_emperor.qzv\u001b[0m\n",
      "\u001b[32mSaved Visualization to: ../../data/DIABIMMUNE-Qiita-11884/q2-analysis/core-metrics-results/jaccard_emperor.qzv\u001b[0m\n",
      "\u001b[32mSaved Visualization to: ../../data/DIABIMMUNE-Qiita-11884/q2-analysis/core-metrics-results/bray_curtis_emperor.qzv\u001b[0m\n"
     ]
    }
   ],
   "source": [
    "!qiime diversity core-metrics-phylogenetic \\\n",
    "    --i-phylogeny $OUTPUT_DIRECTORY/insertion-tree.qza \\\n",
    "    --i-table $OUTPUT_DIRECTORY/table.qza \\\n",
    "    --p-sampling-depth $RAREFACTION_DEPTH \\\n",
    "    --m-metadata-file $INPUT_SAMPLE_METADATA_PATH \\\n",
    "    --output-dir $OUTPUT_DIRECTORY/core-metrics-results"
   ]
  },
  {
   "cell_type": "code",
   "execution_count": 4,
   "metadata": {},
   "outputs": [
    {
     "name": "stdout",
     "output_type": "stream",
     "text": [
      "\u001b[32mSaved DistanceMatrix to: ../../data/DIABIMMUNE-Qiita-11884/q2-analysis/core-metrics-results/aitchison_distance_matrix.qza\u001b[0m\n",
      "\u001b[32mSaved PCoAResults to: ../../data/DIABIMMUNE-Qiita-11884/q2-analysis/core-metrics-results/aitchison_pcoa_results.qza\u001b[0m\n",
      "\u001b[32mSaved Visualization to: ../../data/DIABIMMUNE-Qiita-11884/q2-analysis/core-metrics-results/aitchisons_emperor.qzv\u001b[0m\n"
     ]
    }
   ],
   "source": [
    "!qiime diversity beta \\\n",
    "    --i-table $OUTPUT_DIRECTORY/table.qza \\\n",
    "    --p-metric aitchison \\\n",
    "    --p-pseudocount 1 \\\n",
    "    --o-distance-matrix $OUTPUT_DIRECTORY/core-metrics-results/aitchison_distance_matrix.qza \n",
    "\n",
    "!qiime diversity pcoa \\\n",
    "    --i-distance-matrix $OUTPUT_DIRECTORY/core-metrics-results/aitchison_distance_matrix.qza \\\n",
    "    --o-pcoa $OUTPUT_DIRECTORY/core-metrics-results/aitchison_pcoa_results.qza\n",
    "\n",
    "!qiime emperor plot \\\n",
    "    --i-pcoa $OUTPUT_DIRECTORY/core-metrics-results/aitchison_pcoa_results.qza \\\n",
    "    --m-metadata-file $INPUT_SAMPLE_METADATA_PATH \\\n",
    "    --o-visualization $OUTPUT_DIRECTORY/core-metrics-results/aitchisons_emperor.qzv"
   ]
  },
  {
   "cell_type": "code",
   "execution_count": 5,
   "metadata": {},
   "outputs": [
    {
     "name": "stdout",
     "output_type": "stream",
     "text": [
      "\u001b[32mSaved DistanceMatrix % Properties('phylogenetic') to: ../../data/DIABIMMUNE-Qiita-11884/q2-analysis/core-metrics-results/gUniFrac_alpha1_distance_matrix.qza\u001b[0m\n",
      "\u001b[32mSaved PCoAResults to: ../../data/DIABIMMUNE-Qiita-11884/q2-analysis/core-metrics-results/gUniFrac_alpha1_pcoa_results.qza\u001b[0m\n",
      "\u001b[32mSaved Visualization to: ../../data/DIABIMMUNE-Qiita-11884/q2-analysis/core-metrics-results/gUniFrac_alpha1_emperor.qzv\u001b[0m\n",
      "\u001b[32mSaved DistanceMatrix % Properties('phylogenetic') to: ../../data/DIABIMMUNE-Qiita-11884/q2-analysis/core-metrics-results/gUniFrac_alpha5_distance_matrix.qza\u001b[0m\n",
      "\u001b[32mSaved PCoAResults to: ../../data/DIABIMMUNE-Qiita-11884/q2-analysis/core-metrics-results/gUniFrac_alpha5_pcoa_results.qza\u001b[0m\n",
      "\u001b[32mSaved Visualization to: ../../data/DIABIMMUNE-Qiita-11884/q2-analysis/core-metrics-results/gUniFrac_alpha5_emperor.qzv\u001b[0m\n",
      "\u001b[32mSaved DistanceMatrix % Properties('phylogenetic') to: ../../data/DIABIMMUNE-Qiita-11884/q2-analysis/core-metrics-results/gUniFrac_alpha0_distance_matrix.qza\u001b[0m\n",
      "\u001b[32mSaved PCoAResults to: ../../data/DIABIMMUNE-Qiita-11884/q2-analysis/core-metrics-results/gUniFrac_alpha0_pcoa_results.qza\u001b[0m\n",
      "\u001b[32mSaved Visualization to: ../../data/DIABIMMUNE-Qiita-11884/q2-analysis/core-metrics-results/gUniFrac_alpha0_emperor.qzv\u001b[0m\n"
     ]
    }
   ],
   "source": [
    "!qiime diversity beta-phylogenetic \\\n",
    "    --i-table $OUTPUT_DIRECTORY/core-metrics-results/rarefied_table.qza \\\n",
    "    --p-metric generalized_unifrac \\\n",
    "    --i-phylogeny $OUTPUT_DIRECTORY/insertion-tree.qza \\\n",
    "    --p-alpha 1 \\\n",
    "    --o-distance-matrix $OUTPUT_DIRECTORY/core-metrics-results/gUniFrac_alpha1_distance_matrix.qza \n",
    "\n",
    "!qiime diversity pcoa \\\n",
    "    --i-distance-matrix $OUTPUT_DIRECTORY/core-metrics-results/gUniFrac_alpha1_distance_matrix.qza \\\n",
    "    --o-pcoa $OUTPUT_DIRECTORY/core-metrics-results/gUniFrac_alpha1_pcoa_results.qza\n",
    "\n",
    "!qiime emperor plot \\\n",
    "    --i-pcoa $OUTPUT_DIRECTORY/core-metrics-results/gUniFrac_alpha1_pcoa_results.qza \\\n",
    "    --m-metadata-file $INPUT_SAMPLE_METADATA_PATH \\\n",
    "    --o-visualization $OUTPUT_DIRECTORY/core-metrics-results/gUniFrac_alpha1_emperor.qzv\n",
    "\n",
    "!qiime diversity beta-phylogenetic \\\n",
    "    --i-table $OUTPUT_DIRECTORY/core-metrics-results/rarefied_table.qza \\\n",
    "    --p-metric generalized_unifrac \\\n",
    "    --i-phylogeny $OUTPUT_DIRECTORY/insertion-tree.qza \\\n",
    "    --p-alpha 0.5 \\\n",
    "    --o-distance-matrix $OUTPUT_DIRECTORY/core-metrics-results/gUniFrac_alpha5_distance_matrix.qza \n",
    "\n",
    "!qiime diversity pcoa \\\n",
    "    --i-distance-matrix $OUTPUT_DIRECTORY/core-metrics-results/gUniFrac_alpha5_distance_matrix.qza \\\n",
    "    --o-pcoa $OUTPUT_DIRECTORY/core-metrics-results/gUniFrac_alpha5_pcoa_results.qza\n",
    "\n",
    "!qiime emperor plot \\\n",
    "    --i-pcoa $OUTPUT_DIRECTORY/core-metrics-results/gUniFrac_alpha5_pcoa_results.qza \\\n",
    "    --m-metadata-file $INPUT_SAMPLE_METADATA_PATH \\\n",
    "    --o-visualization $OUTPUT_DIRECTORY/core-metrics-results/gUniFrac_alpha5_emperor.qzv\n",
    "\n",
    "!qiime diversity beta-phylogenetic \\\n",
    "    --i-table $OUTPUT_DIRECTORY/core-metrics-results/rarefied_table.qza \\\n",
    "    --p-metric generalized_unifrac \\\n",
    "    --i-phylogeny $OUTPUT_DIRECTORY/insertion-tree.qza \\\n",
    "    --p-alpha 0 \\\n",
    "    --o-distance-matrix $OUTPUT_DIRECTORY/core-metrics-results/gUniFrac_alpha0_distance_matrix.qza \n",
    "\n",
    "!qiime diversity pcoa \\\n",
    "    --i-distance-matrix $OUTPUT_DIRECTORY/core-metrics-results/gUniFrac_alpha0_distance_matrix.qza \\\n",
    "    --o-pcoa $OUTPUT_DIRECTORY/core-metrics-results/gUniFrac_alpha0_pcoa_results.qza\n",
    "\n",
    "!qiime emperor plot \\\n",
    "    --i-pcoa $OUTPUT_DIRECTORY/core-metrics-results/gUniFrac_alpha0_pcoa_results.qza \\\n",
    "    --m-metadata-file $INPUT_SAMPLE_METADATA_PATH \\\n",
    "    --o-visualization $OUTPUT_DIRECTORY/core-metrics-results/gUniFrac_alpha0_emperor.qzv\n"
   ]
  },
  {
   "cell_type": "markdown",
   "metadata": {},
   "source": [
    "### 1.7 Taxonomic Analysis"
   ]
  },
  {
   "cell_type": "code",
   "execution_count": 6,
   "metadata": {},
   "outputs": [
    {
     "name": "stdout",
     "output_type": "stream",
     "text": [
      "\u001b[32mSaved FeatureData[Taxonomy] to: ../../data/DIABIMMUNE-Qiita-11884/q2-analysis/taxonomy.qza\u001b[0m\r\n"
     ]
    }
   ],
   "source": [
    "!qiime feature-classifier classify-sklearn \\\n",
    "    --i-classifier $FEATURE_CLASSIFIER_QZA_PATH \\\n",
    "    --i-reads $OUTPUT_DIRECTORY/rep-seqs.qza \\\n",
    "    --o-classification $OUTPUT_DIRECTORY/taxonomy.qza"
   ]
  },
  {
   "cell_type": "markdown",
   "metadata": {},
   "source": [
    "### 1.7.2 Summarize the Taxonomic Classifications"
   ]
  },
  {
   "cell_type": "code",
   "execution_count": 7,
   "metadata": {},
   "outputs": [
    {
     "name": "stdout",
     "output_type": "stream",
     "text": [
      "\u001b[32mSaved Visualization to: ../../data/DIABIMMUNE-Qiita-11884/q2-analysis/taxonomy.qzv\u001b[0m\r\n"
     ]
    }
   ],
   "source": [
    "!qiime metadata tabulate \\\n",
    "    --m-input-file $OUTPUT_DIRECTORY/taxonomy.qza \\\n",
    "    --o-visualization $OUTPUT_DIRECTORY/taxonomy.qzv"
   ]
  },
  {
   "cell_type": "markdown",
   "metadata": {},
   "source": [
    "### 1.8.1 CTF "
   ]
  },
  {
   "cell_type": "code",
   "execution_count": 38,
   "metadata": {},
   "outputs": [
    {
     "name": "stdout",
     "output_type": "stream",
     "text": [
      "\u001b[32mSaved FeatureTable[Frequency] to: ../../data/DIABIMMUNE-Qiita-11884/q2-analysis/table-filt.qza\u001b[0m\r\n"
     ]
    }
   ],
   "source": [
    "!qiime feature-table filter-features\\\n",
    "    --i-table $OUTPUT_DIRECTORY/table.qza \\\n",
    "    --p-min-frequency 10 \\\n",
    "    --o-filtered-table $OUTPUT_DIRECTORY/table-filt.qza \\"
   ]
  },
  {
   "cell_type": "code",
   "execution_count": 3,
   "metadata": {
    "scrolled": true
   },
   "outputs": [
    {
     "name": "stdout",
     "output_type": "stream",
     "text": [
      "/Users/cmartino/Dropbox/bin/gemelli/gemelli/preprocessing.py:356: RuntimeWarning: Subject(s) (E001958,E006091,E005786,E003953,E004628,E018286,E016063,E003188,E016426,E024907,E010581,E028794,E019092,E035134,E007944,E010481,E021235,E006493,E020570,E016273,E020924,E021822,E022497,E004709,E004898,E021032,E000823,E014403,E006781,E011878,E023445,E010682,E021940,E013505) contains multiple samples. Multiple subject counts will be meaned across samples by subject.\n",
      "  RuntimeWarning)\n",
      "\u001b[32mSaved PCoAResults % Properties('biplot') to: ../../data/DIABIMMUNE-Qiita-11884/q2-analysis/ctf-results/subject_biplot.qza\u001b[0m\n",
      "\u001b[32mSaved PCoAResults % Properties('biplot') to: ../../data/DIABIMMUNE-Qiita-11884/q2-analysis/ctf-results/state_biplot.qza\u001b[0m\n",
      "\u001b[32mSaved DistanceMatrix to: ../../data/DIABIMMUNE-Qiita-11884/q2-analysis/ctf-results/distance_matrix.qza\u001b[0m\n",
      "\u001b[32mSaved SampleData[SampleTrajectory] to: ../../data/DIABIMMUNE-Qiita-11884/q2-analysis/ctf-results/state_subject_ordination.qza\u001b[0m\n",
      "\u001b[32mSaved FeatureData[FeatureTrajectory] to: ../../data/DIABIMMUNE-Qiita-11884/q2-analysis/ctf-results/state_feature_ordination.qza\u001b[0m\n"
     ]
    }
   ],
   "source": [
    "!qiime gemelli ctf --i-table $OUTPUT_DIRECTORY/table-filt.qza \\\n",
    "                   --m-sample-metadata-file $INPUT_SAMPLE_METADATA_PATH \\\n",
    "                   --p-individual-id-column subjectid \\\n",
    "                   --p-state-column month \\\n",
    "                   --m-feature-metadata-file $OUTPUT_DIRECTORY/taxonomy.qza \\\n",
    "                   --p-min-sample-count 2000\\\n",
    "                   --p-min-feature-count 0\\\n",
    "                   --p-max-iterations-rptm 25\\\n",
    "                   --p-n-initializations 25\\\n",
    "                   --p-max-iterations-als 25\\\n",
    "                   --output-dir $OUTPUT_DIRECTORY/ctf-results \\\n",
    "                   --p-n-components 4\\\n",
    "                   --verbose"
   ]
  },
  {
   "cell_type": "code",
   "execution_count": null,
   "metadata": {},
   "outputs": [],
   "source": []
  }
 ],
 "metadata": {
  "kernelspec": {
   "display_name": "Python 3",
   "language": "python",
   "name": "python3"
  },
  "language_info": {
   "codemirror_mode": {
    "name": "ipython",
    "version": 3
   },
   "file_extension": ".py",
   "mimetype": "text/x-python",
   "name": "python",
   "nbconvert_exporter": "python",
   "pygments_lexer": "ipython3",
   "version": "3.6.7"
  }
 },
 "nbformat": 4,
 "nbformat_minor": 2
}
