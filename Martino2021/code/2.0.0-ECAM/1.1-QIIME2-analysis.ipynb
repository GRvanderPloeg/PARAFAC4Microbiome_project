{
 "cells": [
  {
   "cell_type": "markdown",
   "metadata": {},
   "source": [
    "# QIIME2 analysis of qiita ID 10249 \n",
    "### Antibiotics, birth mode, and diet shape microbiome maturation during early life (ECAM)\n",
    "\n",
    "\n",
    "#### Abstract\n",
    "\n",
    "Early childhood is a critical stage for the foundation and development of both the microbiome and host. Early-life antibiotic exposures, cesarean section, and formula feeding could disrupt microbiome establishment and adversely affect health later in life. We profiled microbial development during the first two years of life in a cohort of 43 US infants, and identify multiple disturbances associated with antibiotic exposures, cesarean section, and diet. Antibiotics delayed microbiome development and suppressed Clostridiales, including Lachnospiraceae. Cesarean section led to depleted Bacteroidetes populations, altering establishment of maternal bacteria. Formula-feeding was associated with age-dependent diversity deviations. These findings illustrate the complexity of early-life microbiome development, and microbiota disturbances with antibiotic use, cesarean section, and formula feeding that may contribute to obesity, asthma, and other disorders.\n"
   ]
  },
  {
   "cell_type": "markdown",
   "metadata": {},
   "source": [
    "### 1.1 “Parameters” that specify the input data locations"
   ]
  },
  {
   "cell_type": "code",
   "execution_count": 1,
   "metadata": {},
   "outputs": [
    {
     "name": "stdout",
     "output_type": "stream",
     "text": [
      "env: INPUT_BIOM_TABLE_PATH=../../data/ECAM-Qiita-10249/table-matched.biom\n",
      "env: INPUT_REPRESENTATIVE_SEQUENCES_PATH=../../data/ECAM-Qiita-10249/rep-seqs.fa\n",
      "env: INPUT_SAMPLE_METADATA_PATH=../../data/ECAM-Qiita-10249/metadata-matched.tsv\n",
      "env: RAREFACTION_DEPTH=2000\n",
      "env: FEATURE_CLASSIFIER_QZA_PATH=../../data/data-assests/gg-13-8-99-515-806-nb-classifier.qza\n",
      "env: OUTPUT_DIRECTORY=../../data/ECAM-Qiita-10249/q2-analysis\n"
     ]
    }
   ],
   "source": [
    "# Input data locations\n",
    "%env INPUT_BIOM_TABLE_PATH=../../data/ECAM-Qiita-10249/table-matched.biom\n",
    "%env INPUT_REPRESENTATIVE_SEQUENCES_PATH=../../data/ECAM-Qiita-10249/rep-seqs.fa\n",
    "%env INPUT_SAMPLE_METADATA_PATH=../../data/ECAM-Qiita-10249/metadata-matched.tsv\n",
    "# Rarefaction depth used in the \"Diversity Analyses\" section\n",
    "%env RAREFACTION_DEPTH=2000\n",
    "# classifier from (qiime2 downloaded 5/31/2019)\n",
    "%env FEATURE_CLASSIFIER_QZA_PATH=../../data/data-assests/gg-13-8-99-515-806-nb-classifier.qza\n",
    "# Output directory\n",
    "%env OUTPUT_DIRECTORY=../../data/ECAM-Qiita-10249/q2-analysis"
   ]
  },
  {
   "cell_type": "markdown",
   "metadata": {},
   "source": [
    "### 1.2 Setting up output and environment "
   ]
  },
  {
   "cell_type": "code",
   "execution_count": 3,
   "metadata": {},
   "outputs": [
    {
     "name": "stdout",
     "output_type": "stream",
     "text": [
      "/bin/sh: activate: No such file or directory\r\n"
     ]
    }
   ],
   "source": [
    "!source activate qiime2-2019.7"
   ]
  },
  {
   "cell_type": "markdown",
   "metadata": {},
   "source": [
    "### 1.3 Importing Data"
   ]
  },
  {
   "cell_type": "code",
   "execution_count": 4,
   "metadata": {},
   "outputs": [
    {
     "name": "stdout",
     "output_type": "stream",
     "text": [
      "\u001b[32mImported ../../data/ECAM-Qiita-10249/table-matched.biom as BIOMV210DirFmt to ../../data/ECAM-Qiita-10249/q2-analysis/table.qza\u001b[0m\r\n"
     ]
    }
   ],
   "source": [
    "!qiime tools import \\\n",
    "    --type \"FeatureTable[Frequency]\" \\\n",
    "    --input-path $INPUT_BIOM_TABLE_PATH \\\n",
    "    --output-path $OUTPUT_DIRECTORY/table.qza"
   ]
  },
  {
   "cell_type": "code",
   "execution_count": 5,
   "metadata": {},
   "outputs": [
    {
     "name": "stdout",
     "output_type": "stream",
     "text": [
      "\u001b[32mImported ../../data/ECAM-Qiita-10249/rep-seqs.fa as DNASequencesDirectoryFormat to ../../data/ECAM-Qiita-10249/q2-analysis/rep-seqs.qza\u001b[0m\r\n"
     ]
    }
   ],
   "source": [
    "!qiime tools import \\\n",
    "    --type \"FeatureData[Sequence]\" \\\n",
    "    --input-path $INPUT_REPRESENTATIVE_SEQUENCES_PATH \\\n",
    "    --output-path $OUTPUT_DIRECTORY/rep-seqs.qza"
   ]
  },
  {
   "cell_type": "markdown",
   "metadata": {},
   "source": [
    "### 1.4 Summarize the (filtered) table and representative sequences"
   ]
  },
  {
   "cell_type": "code",
   "execution_count": 8,
   "metadata": {},
   "outputs": [
    {
     "name": "stdout",
     "output_type": "stream",
     "text": [
      "\u001b[32mSaved Visualization to: ../../data/ECAM-Qiita-10249/q2-analysis/table.qzv\u001b[0m\r\n"
     ]
    }
   ],
   "source": [
    "!qiime feature-table summarize \\\n",
    "    --i-table $OUTPUT_DIRECTORY/table.qza \\\n",
    "    --o-visualization $OUTPUT_DIRECTORY/table.qzv \\\n",
    "    --m-sample-metadata-file $INPUT_SAMPLE_METADATA_PATH"
   ]
  },
  {
   "cell_type": "code",
   "execution_count": 9,
   "metadata": {},
   "outputs": [
    {
     "name": "stdout",
     "output_type": "stream",
     "text": [
      "\u001b[32mSaved Visualization to: ../../data/ECAM-Qiita-10249/q2-analysis/rep-seqs.qzv\u001b[0m\r\n"
     ]
    }
   ],
   "source": [
    "!qiime feature-table tabulate-seqs \\\n",
    "    --i-data $OUTPUT_DIRECTORY/rep-seqs.qza \\\n",
    "    --o-visualization $OUTPUT_DIRECTORY/rep-seqs.qzv"
   ]
  },
  {
   "cell_type": "markdown",
   "metadata": {},
   "source": [
    "### 1.5 Generate phylogenetic trees"
   ]
  },
  {
   "cell_type": "code",
   "execution_count": 10,
   "metadata": {},
   "outputs": [
    {
     "name": "stdout",
     "output_type": "stream",
     "text": [
      "\u001b[32mSaved Phylogeny[Rooted] to: ../../data/ECAM-Qiita-10249/q2-analysis/insertion-tree.qza\u001b[0m\n",
      "\u001b[32mSaved Placements to: ../../data/ECAM-Qiita-10249/q2-analysis/tree-placements.qza\u001b[0m\n"
     ]
    }
   ],
   "source": [
    "!qiime fragment-insertion sepp \\\n",
    "    --i-representative-sequences $OUTPUT_DIRECTORY/rep-seqs.qza \\\n",
    "    --o-tree $OUTPUT_DIRECTORY/insertion-tree.qza \\\n",
    "    --o-placements $OUTPUT_DIRECTORY/tree-placements.qza\n"
   ]
  },
  {
   "cell_type": "markdown",
   "metadata": {},
   "source": [
    "### 1.6 Diversity Analyses (all core-metrics & beta-diversity aitchison)"
   ]
  },
  {
   "cell_type": "code",
   "execution_count": 17,
   "metadata": {},
   "outputs": [
    {
     "name": "stdout",
     "output_type": "stream",
     "text": [
      "\u001b[32mSaved FeatureTable[Frequency] to: ../../data/ECAM-Qiita-10249/q2-analysis/core-metrics-results/rarefied_table.qza\u001b[0m\n",
      "\u001b[32mSaved SampleData[AlphaDiversity] % Properties('phylogenetic') to: ../../data/ECAM-Qiita-10249/q2-analysis/core-metrics-results/faith_pd_vector.qza\u001b[0m\n",
      "\u001b[32mSaved SampleData[AlphaDiversity] to: ../../data/ECAM-Qiita-10249/q2-analysis/core-metrics-results/observed_otus_vector.qza\u001b[0m\n",
      "\u001b[32mSaved SampleData[AlphaDiversity] to: ../../data/ECAM-Qiita-10249/q2-analysis/core-metrics-results/shannon_vector.qza\u001b[0m\n",
      "\u001b[32mSaved SampleData[AlphaDiversity] to: ../../data/ECAM-Qiita-10249/q2-analysis/core-metrics-results/evenness_vector.qza\u001b[0m\n",
      "\u001b[32mSaved DistanceMatrix % Properties('phylogenetic') to: ../../data/ECAM-Qiita-10249/q2-analysis/core-metrics-results/unweighted_unifrac_distance_matrix.qza\u001b[0m\n",
      "\u001b[32mSaved DistanceMatrix % Properties('phylogenetic') to: ../../data/ECAM-Qiita-10249/q2-analysis/core-metrics-results/weighted_unifrac_distance_matrix.qza\u001b[0m\n",
      "\u001b[32mSaved DistanceMatrix to: ../../data/ECAM-Qiita-10249/q2-analysis/core-metrics-results/jaccard_distance_matrix.qza\u001b[0m\n",
      "\u001b[32mSaved DistanceMatrix to: ../../data/ECAM-Qiita-10249/q2-analysis/core-metrics-results/bray_curtis_distance_matrix.qza\u001b[0m\n",
      "\u001b[32mSaved PCoAResults to: ../../data/ECAM-Qiita-10249/q2-analysis/core-metrics-results/unweighted_unifrac_pcoa_results.qza\u001b[0m\n",
      "\u001b[32mSaved PCoAResults to: ../../data/ECAM-Qiita-10249/q2-analysis/core-metrics-results/weighted_unifrac_pcoa_results.qza\u001b[0m\n",
      "\u001b[32mSaved PCoAResults to: ../../data/ECAM-Qiita-10249/q2-analysis/core-metrics-results/jaccard_pcoa_results.qza\u001b[0m\n",
      "\u001b[32mSaved PCoAResults to: ../../data/ECAM-Qiita-10249/q2-analysis/core-metrics-results/bray_curtis_pcoa_results.qza\u001b[0m\n",
      "\u001b[32mSaved Visualization to: ../../data/ECAM-Qiita-10249/q2-analysis/core-metrics-results/unweighted_unifrac_emperor.qzv\u001b[0m\n",
      "\u001b[32mSaved Visualization to: ../../data/ECAM-Qiita-10249/q2-analysis/core-metrics-results/weighted_unifrac_emperor.qzv\u001b[0m\n",
      "\u001b[32mSaved Visualization to: ../../data/ECAM-Qiita-10249/q2-analysis/core-metrics-results/jaccard_emperor.qzv\u001b[0m\n",
      "\u001b[32mSaved Visualization to: ../../data/ECAM-Qiita-10249/q2-analysis/core-metrics-results/bray_curtis_emperor.qzv\u001b[0m\n"
     ]
    }
   ],
   "source": [
    "!qiime diversity core-metrics-phylogenetic \\\n",
    "    --i-phylogeny $OUTPUT_DIRECTORY/insertion-tree.qza \\\n",
    "    --i-table $OUTPUT_DIRECTORY/table.qza \\\n",
    "    --p-sampling-depth $RAREFACTION_DEPTH \\\n",
    "    --m-metadata-file $INPUT_SAMPLE_METADATA_PATH \\\n",
    "    --output-dir $OUTPUT_DIRECTORY/core-metrics-results"
   ]
  },
  {
   "cell_type": "code",
   "execution_count": 18,
   "metadata": {},
   "outputs": [
    {
     "name": "stdout",
     "output_type": "stream",
     "text": [
      "\u001b[32mSaved DistanceMatrix to: ../../data/ECAM-Qiita-10249/q2-analysis/core-metrics-results/aitchison_distance_matrix.qza\u001b[0m\n",
      "\u001b[32mSaved PCoAResults to: ../../data/ECAM-Qiita-10249/q2-analysis/core-metrics-results/aitchison_pcoa_results.qza\u001b[0m\n",
      "\u001b[32mSaved Visualization to: ../../data/ECAM-Qiita-10249/q2-analysis/core-metrics-results/aitchisons_emperor.qzv\u001b[0m\n"
     ]
    }
   ],
   "source": [
    "!qiime diversity beta \\\n",
    "    --i-table $OUTPUT_DIRECTORY/table.qza \\\n",
    "    --p-metric aitchison \\\n",
    "    --p-pseudocount 1 \\\n",
    "    --o-distance-matrix $OUTPUT_DIRECTORY/core-metrics-results/aitchison_distance_matrix.qza \n",
    "\n",
    "!qiime diversity pcoa \\\n",
    "    --i-distance-matrix $OUTPUT_DIRECTORY/core-metrics-results/aitchison_distance_matrix.qza \\\n",
    "    --o-pcoa $OUTPUT_DIRECTORY/core-metrics-results/aitchison_pcoa_results.qza\n",
    "\n",
    "!qiime emperor plot \\\n",
    "    --i-pcoa $OUTPUT_DIRECTORY/core-metrics-results/aitchison_pcoa_results.qza \\\n",
    "    --m-metadata-file $INPUT_SAMPLE_METADATA_PATH \\\n",
    "    --o-visualization $OUTPUT_DIRECTORY/core-metrics-results/aitchisons_emperor.qzv"
   ]
  },
  {
   "cell_type": "code",
   "execution_count": 19,
   "metadata": {},
   "outputs": [
    {
     "name": "stdout",
     "output_type": "stream",
     "text": [
      "\u001b[32mSaved DistanceMatrix % Properties('phylogenetic') to: ../../data/ECAM-Qiita-10249/q2-analysis/core-metrics-results/gUniFrac_alpha1_distance_matrix.qza\u001b[0m\n",
      "\u001b[32mSaved PCoAResults to: ../../data/ECAM-Qiita-10249/q2-analysis/core-metrics-results/gUniFrac_alpha1_pcoa_results.qza\u001b[0m\n",
      "\u001b[32mSaved Visualization to: ../../data/ECAM-Qiita-10249/q2-analysis/core-metrics-results/gUniFrac_alpha1_emperor.qzv\u001b[0m\n",
      "\u001b[32mSaved DistanceMatrix % Properties('phylogenetic') to: ../../data/ECAM-Qiita-10249/q2-analysis/core-metrics-results/gUniFrac_alpha5_distance_matrix.qza\u001b[0m\n",
      "\u001b[32mSaved PCoAResults to: ../../data/ECAM-Qiita-10249/q2-analysis/core-metrics-results/gUniFrac_alpha5_pcoa_results.qza\u001b[0m\n",
      "\u001b[32mSaved Visualization to: ../../data/ECAM-Qiita-10249/q2-analysis/core-metrics-results/gUniFrac_alpha5_emperor.qzv\u001b[0m\n",
      "\u001b[32mSaved DistanceMatrix % Properties('phylogenetic') to: ../../data/ECAM-Qiita-10249/q2-analysis/core-metrics-results/gUniFrac_alpha0_distance_matrix.qza\u001b[0m\n",
      "\u001b[32mSaved PCoAResults to: ../../data/ECAM-Qiita-10249/q2-analysis/core-metrics-results/gUniFrac_alpha0_pcoa_results.qza\u001b[0m\n",
      "\u001b[32mSaved Visualization to: ../../data/ECAM-Qiita-10249/q2-analysis/core-metrics-results/gUniFrac_alpha0_emperor.qzv\u001b[0m\n"
     ]
    }
   ],
   "source": [
    "!qiime diversity beta-phylogenetic \\\n",
    "    --i-table $OUTPUT_DIRECTORY/core-metrics-results/rarefied_table.qza \\\n",
    "    --p-metric generalized_unifrac \\\n",
    "    --i-phylogeny $OUTPUT_DIRECTORY/insertion-tree.qza \\\n",
    "    --p-alpha 1 \\\n",
    "    --o-distance-matrix $OUTPUT_DIRECTORY/core-metrics-results/gUniFrac_alpha1_distance_matrix.qza \n",
    "\n",
    "!qiime diversity pcoa \\\n",
    "    --i-distance-matrix $OUTPUT_DIRECTORY/core-metrics-results/gUniFrac_alpha1_distance_matrix.qza \\\n",
    "    --o-pcoa $OUTPUT_DIRECTORY/core-metrics-results/gUniFrac_alpha1_pcoa_results.qza\n",
    "\n",
    "!qiime emperor plot \\\n",
    "    --i-pcoa $OUTPUT_DIRECTORY/core-metrics-results/gUniFrac_alpha1_pcoa_results.qza \\\n",
    "    --m-metadata-file $INPUT_SAMPLE_METADATA_PATH \\\n",
    "    --o-visualization $OUTPUT_DIRECTORY/core-metrics-results/gUniFrac_alpha1_emperor.qzv\n",
    "\n",
    "!qiime diversity beta-phylogenetic \\\n",
    "    --i-table $OUTPUT_DIRECTORY/core-metrics-results/rarefied_table.qza \\\n",
    "    --p-metric generalized_unifrac \\\n",
    "    --i-phylogeny $OUTPUT_DIRECTORY/insertion-tree.qza \\\n",
    "    --p-alpha 0.5 \\\n",
    "    --o-distance-matrix $OUTPUT_DIRECTORY/core-metrics-results/gUniFrac_alpha5_distance_matrix.qza \n",
    "\n",
    "!qiime diversity pcoa \\\n",
    "    --i-distance-matrix $OUTPUT_DIRECTORY/core-metrics-results/gUniFrac_alpha5_distance_matrix.qza \\\n",
    "    --o-pcoa $OUTPUT_DIRECTORY/core-metrics-results/gUniFrac_alpha5_pcoa_results.qza\n",
    "\n",
    "!qiime emperor plot \\\n",
    "    --i-pcoa $OUTPUT_DIRECTORY/core-metrics-results/gUniFrac_alpha5_pcoa_results.qza \\\n",
    "    --m-metadata-file $INPUT_SAMPLE_METADATA_PATH \\\n",
    "    --o-visualization $OUTPUT_DIRECTORY/core-metrics-results/gUniFrac_alpha5_emperor.qzv\n",
    "\n",
    "!qiime diversity beta-phylogenetic \\\n",
    "    --i-table $OUTPUT_DIRECTORY/core-metrics-results/rarefied_table.qza \\\n",
    "    --p-metric generalized_unifrac \\\n",
    "    --i-phylogeny $OUTPUT_DIRECTORY/insertion-tree.qza \\\n",
    "    --p-alpha 0 \\\n",
    "    --o-distance-matrix $OUTPUT_DIRECTORY/core-metrics-results/gUniFrac_alpha0_distance_matrix.qza \n",
    "\n",
    "!qiime diversity pcoa \\\n",
    "    --i-distance-matrix $OUTPUT_DIRECTORY/core-metrics-results/gUniFrac_alpha0_distance_matrix.qza \\\n",
    "    --o-pcoa $OUTPUT_DIRECTORY/core-metrics-results/gUniFrac_alpha0_pcoa_results.qza\n",
    "\n",
    "!qiime emperor plot \\\n",
    "    --i-pcoa $OUTPUT_DIRECTORY/core-metrics-results/gUniFrac_alpha0_pcoa_results.qza \\\n",
    "    --m-metadata-file $INPUT_SAMPLE_METADATA_PATH \\\n",
    "    --o-visualization $OUTPUT_DIRECTORY/core-metrics-results/gUniFrac_alpha0_emperor.qzv\n"
   ]
  },
  {
   "cell_type": "markdown",
   "metadata": {},
   "source": [
    "### 1.7 Taxonomic Analysis"
   ]
  },
  {
   "cell_type": "code",
   "execution_count": 23,
   "metadata": {},
   "outputs": [
    {
     "name": "stdout",
     "output_type": "stream",
     "text": [
      "\u001b[32mSaved FeatureData[Taxonomy] to: ../../data/ECAM-Qiita-10249/q2-analysis/taxonomy.qza\u001b[0m\r\n"
     ]
    }
   ],
   "source": [
    "!qiime feature-classifier classify-sklearn \\\n",
    "    --i-classifier $FEATURE_CLASSIFIER_QZA_PATH \\\n",
    "    --i-reads $OUTPUT_DIRECTORY/rep-seqs.qza \\\n",
    "    --o-classification $OUTPUT_DIRECTORY/taxonomy.qza"
   ]
  },
  {
   "cell_type": "markdown",
   "metadata": {},
   "source": [
    "### 1.7.2 Summarize the Taxonomic Classifications"
   ]
  },
  {
   "cell_type": "code",
   "execution_count": 24,
   "metadata": {},
   "outputs": [
    {
     "name": "stdout",
     "output_type": "stream",
     "text": [
      "\u001b[32mSaved Visualization to: ../../data/ECAM-Qiita-10249/q2-analysis/taxonomy.qzv\u001b[0m\r\n"
     ]
    }
   ],
   "source": [
    "!qiime metadata tabulate \\\n",
    "    --m-input-file $OUTPUT_DIRECTORY/taxonomy.qza \\\n",
    "    --o-visualization $OUTPUT_DIRECTORY/taxonomy.qzv"
   ]
  },
  {
   "cell_type": "markdown",
   "metadata": {},
   "source": [
    "### 1.8.1 CTF "
   ]
  },
  {
   "cell_type": "code",
   "execution_count": 2,
   "metadata": {
    "scrolled": false
   },
   "outputs": [
    {
     "name": "stdout",
     "output_type": "stream",
     "text": [
      "/Users/cmartino/Dropbox/bin/gemelli/gemelli/preprocessing.py:356: RuntimeWarning: Subject(s) (38.0,4.0,5.0,10.0,22.0,21.0,34.0,56.0,18.0,52.0,25.0,44.0,46.0,41.0,27.0,2.0,45.0,33.0,7.0,37.0,57.0,30.0,8.0,35.0,11.0,17.0,24.0,20.0,31.0,32.0,1.0,49.0,14.0,43.0,53.0,36.0,12.0,55.0,42.0,16.0) contains multiple samples. Multiple subject counts will be meaned across samples by subject.\n",
      "  RuntimeWarning)\n",
      "\u001b[32mSaved PCoAResults % Properties('biplot') to: ../../data/ECAM-Qiita-10249/q2-analysis/ctf-results/subject_biplot.qza\u001b[0m\n",
      "\u001b[32mSaved PCoAResults % Properties('biplot') to: ../../data/ECAM-Qiita-10249/q2-analysis/ctf-results/state_biplot.qza\u001b[0m\n",
      "\u001b[32mSaved DistanceMatrix to: ../../data/ECAM-Qiita-10249/q2-analysis/ctf-results/distance_matrix.qza\u001b[0m\n",
      "\u001b[32mSaved SampleData[SampleTrajectory] to: ../../data/ECAM-Qiita-10249/q2-analysis/ctf-results/state_subject_ordination.qza\u001b[0m\n",
      "\u001b[32mSaved FeatureData[FeatureTrajectory] to: ../../data/ECAM-Qiita-10249/q2-analysis/ctf-results/state_feature_ordination.qza\u001b[0m\n"
     ]
    }
   ],
   "source": [
    "!qiime gemelli ctf --i-table $OUTPUT_DIRECTORY/table.qza \\\n",
    "                   --m-sample-metadata-file $INPUT_SAMPLE_METADATA_PATH \\\n",
    "                   --p-individual-id-column host_subject_id \\\n",
    "                   --p-state-column month \\\n",
    "                   --m-feature-metadata-file $OUTPUT_DIRECTORY/taxonomy.qza \\\n",
    "                   --p-min-sample-count 0\\\n",
    "                   --p-min-feature-count 5\\\n",
    "                   --p-max-iterations-rptm 5 \\\n",
    "                   --p-n-initializations 5 \\\n",
    "                   --p-max-iterations-als 5 \\\n",
    "                   --output-dir $OUTPUT_DIRECTORY/ctf-results \\\n",
    "                   --p-n-components 2 \\\n",
    "                   --verbose"
   ]
  },
  {
   "cell_type": "code",
   "execution_count": null,
   "metadata": {},
   "outputs": [],
   "source": []
  }
 ],
 "metadata": {
  "kernelspec": {
   "display_name": "Python 3",
   "language": "python",
   "name": "python3"
  },
  "language_info": {
   "codemirror_mode": {
    "name": "ipython",
    "version": 3
   },
   "file_extension": ".py",
   "mimetype": "text/x-python",
   "name": "python",
   "nbconvert_exporter": "python",
   "pygments_lexer": "ipython3",
   "version": "3.6.7"
  }
 },
 "nbformat": 4,
 "nbformat_minor": 2
}
