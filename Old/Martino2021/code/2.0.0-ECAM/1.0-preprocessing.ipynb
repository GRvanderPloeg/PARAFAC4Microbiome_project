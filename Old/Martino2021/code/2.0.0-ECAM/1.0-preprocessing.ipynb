{
 "cells": [
  {
   "cell_type": "code",
   "execution_count": 2,
   "metadata": {},
   "outputs": [],
   "source": [
    "import biom\n",
    "import numpy as np\n",
    "import pandas as pd\n",
    "from biom import Table\n",
    "from scipy.spatial import distance\n",
    "from scripts.large_pickle import pickle_dump,pickle_load\n",
    "\n"
   ]
  },
  {
   "cell_type": "code",
   "execution_count": 5,
   "metadata": {},
   "outputs": [
    {
     "data": {
      "text/plain": [
       "3382 x 743 <class 'biom.table.Table'> with 47727 nonzero entries (1% dense)"
      ]
     },
     "execution_count": 5,
     "metadata": {},
     "output_type": "execute_result"
    }
   ],
   "source": [
    "\"\"\"\n",
    "Import data and filter\n",
    "by sum or reads/taxa\n",
    "\n",
    "filter cutoffs\n",
    "int, int\n",
    "\"\"\"\n",
    "n_sample = 0\n",
    "n_feature = 0\n",
    "\n",
    "# load data\n",
    "bt = biom.load_table('../../data/ECAM-Qiita-10249/table.biom')\n",
    "mf = pd.read_csv('../../data/ECAM-Qiita-10249/10249_20180418-081211.txt',sep='\\t',index_col=0)\n",
    "mf.index = mf.index.astype(str)\n",
    "\n",
    "# drop subject with too few time points\n",
    "mf = mf.replace('na',np.nan)\n",
    "mf = mf.dropna(subset=['host_subject_id','month'])\n",
    "mf = mf[mf.sampletype.isin(['Stool_Stabilizer'])]\n",
    "mf['month'] = [int(x) for x in mf.month]\n",
    "# too few samples at these months\n",
    "mf = mf[mf.month.astype(int) <= 24]\n",
    "mf = mf[~mf.month.isin([17,13,-1,21])]\n",
    "month_subject = {k:sorted(set(map(int,df.month))) for k,df in mf.groupby('host_subject_id')}\n",
    "keep_subjects = [k for k,v in month_subject.items() if len(v) > 0]\n",
    "mf = mf[mf.host_subject_id.isin(keep_subjects)]\n",
    "\n",
    "# filter table by sum cutoffs\n",
    "keep_subject = bt.ids('sample')[bt.sum('sample') >= n_sample]\n",
    "keep_subject = list(set(mf.index) & set(keep_subject))\n",
    "bt.filter(keep_subject,axis='sample',inplace=True)\n",
    "\n",
    "# filter taxa\n",
    "keep_taxa = bt.ids('observation')[bt.sum('observation') > n_feature]\n",
    "# drop and filter\n",
    "bt.filter(keep_taxa,axis='observation',inplace=True)\n",
    "# df\n",
    "btdf = pd.DataFrame(bt.matrix_data.toarray(),\n",
    "                    bt.ids('observation'),\n",
    "                    bt.ids('sample'))\n",
    "# ensure matched \n",
    "mf = mf.reindex(btdf.columns)\n",
    "\n",
    "# save matched\n",
    "# write mapping file to use for downstream\n",
    "mf.index.name = '#SampleID'\n",
    "mf.to_csv('../../data/ECAM-Qiita-10249/metadata-matched.tsv',sep='\\t')\n",
    "btdf.index.name = '#SampleID'\n",
    "btdf.to_csv('../../data/ECAM-Qiita-10249/table-matched.tsv',sep='\\t')\n",
    "with biom.util.biom_open('../../data/ECAM-Qiita-10249/table-matched.biom', 'w') as f:\n",
    "    bt.to_hdf5(f, \"reference-hit-table-matched\")\n",
    "bt"
   ]
  },
  {
   "cell_type": "code",
   "execution_count": 7,
   "metadata": {},
   "outputs": [
    {
     "data": {
      "text/plain": [
       "44"
      ]
     },
     "execution_count": 7,
     "metadata": {},
     "output_type": "execute_result"
    }
   ],
   "source": [
    "len(set(mf.host_subject_id))"
   ]
  },
  {
   "cell_type": "code",
   "execution_count": 8,
   "metadata": {},
   "outputs": [
    {
     "data": {
      "text/plain": [
       "Vaginal     444\n",
       "Cesarean    299\n",
       "Name: delivery, dtype: int64"
      ]
     },
     "execution_count": 8,
     "metadata": {},
     "output_type": "execute_result"
    }
   ],
   "source": [
    "mf.delivery.value_counts()\n"
   ]
  },
  {
   "cell_type": "code",
   "execution_count": 9,
   "metadata": {},
   "outputs": [
    {
     "data": {
      "text/plain": [
       "Counter({'Vaginal': 24, 'Cesarean': 20})"
      ]
     },
     "execution_count": 9,
     "metadata": {},
     "output_type": "execute_result"
    }
   ],
   "source": [
    "from collections import Counter\n",
    "Counter([list(set(df.delivery))[0] for i,df in mf.groupby('host_subject_id')])\n"
   ]
  },
  {
   "cell_type": "code",
   "execution_count": 10,
   "metadata": {},
   "outputs": [
    {
     "data": {
      "text/plain": [
       "{0, 1, 2, 3, 4, 5, 6, 7, 8, 9, 10, 11, 12, 14, 15, 16, 18, 19, 20, 22, 24}"
      ]
     },
     "execution_count": 10,
     "metadata": {},
     "output_type": "execute_result"
    }
   ],
   "source": [
    "set(mf.month)"
   ]
  }
 ],
 "metadata": {
  "kernelspec": {
   "display_name": "Python 3",
   "language": "python",
   "name": "python3"
  },
  "language_info": {
   "codemirror_mode": {
    "name": "ipython",
    "version": 3
   },
   "file_extension": ".py",
   "mimetype": "text/x-python",
   "name": "python",
   "nbconvert_exporter": "python",
   "pygments_lexer": "ipython3",
   "version": "3.6.7"
  }
 },
 "nbformat": 4,
 "nbformat_minor": 2
}
